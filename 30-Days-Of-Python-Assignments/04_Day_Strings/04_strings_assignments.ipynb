{
 "cells": [
  {
   "cell_type": "code",
   "execution_count": null,
   "id": "0af376a0-9178-4680-85f3-c8d6c1242799",
   "metadata": {},
   "outputs": [],
   "source": [
    "Exercises - Day 4\n",
    "# https://github.com/Asabeneh/30-Days-Of-Python"
   ]
  },
  {
   "cell_type": "code",
   "execution_count": 3,
   "id": "13f0e974-607f-4171-8645-9757b7434ec6",
   "metadata": {},
   "outputs": [
    {
     "name": "stdout",
     "output_type": "stream",
     "text": [
      "Thirty Days Of Python\n"
     ]
    }
   ],
   "source": [
    "concate_string =   'Thirty'+ ' '+'Days'+' '+'Of'+' '+'Python'\n",
    "print(concate_string)"
   ]
  },
  {
   "cell_type": "code",
   "execution_count": 7,
   "id": "8be6e72e-9075-4ae1-93d5-948aa371d5cd",
   "metadata": {},
   "outputs": [
    {
     "name": "stdout",
     "output_type": "stream",
     "text": [
      "21\n"
     ]
    }
   ],
   "source": [
    "length_of_a_string = len(concate_string)\n",
    "print(length_of_a_string)"
   ]
  },
  {
   "cell_type": "code",
   "execution_count": 24,
   "id": "57325788-161e-4a01-8af1-5b96e5ceba24",
   "metadata": {},
   "outputs": [
    {
     "name": "stdout",
     "output_type": "stream",
     "text": [
      "found Coding\n",
      "found Coding\n"
     ]
    }
   ],
   "source": [
    "word_in_a_string = 'Coding For All'\n",
    "\n",
    "find_word = 'Coding'\n",
    "\n",
    "if word_in_a_string.index('Coding') ==0 :\n",
    "    print(f'found {find_word}')\n",
    "\n",
    "if word_in_a_string.find('Coding') ==0 :\n",
    "    print(f'found {find_word}')\n"
   ]
  },
  {
   "cell_type": "code",
   "execution_count": 28,
   "id": "950d51d6-0bf7-4ae9-b356-f28623b39369",
   "metadata": {},
   "outputs": [
    {
     "name": "stdout",
     "output_type": "stream",
     "text": [
      "Python For All\n"
     ]
    }
   ],
   "source": [
    "replace_word = word_in_a_string.replace('Coding','Python')\n",
    "print(replace_word)"
   ]
  },
  {
   "cell_type": "code",
   "execution_count": 63,
   "id": "50790582-d469-4cb9-9ed2-ecaf46710727",
   "metadata": {},
   "outputs": [
    {
     "name": "stdout",
     "output_type": "stream",
     "text": [
      "CFA\n"
     ]
    }
   ],
   "source": [
    "#Create an acronym or an abbreviation for the name 'Coding For All'.\n",
    "acronym = ''\n",
    "sentence = 'Coding For All'\n",
    "for word in sentence.split() :\n",
    "    acronym += word[0].upper()\n",
    "print(acronym)  \n"
   ]
  },
  {
   "cell_type": "code",
   "execution_count": null,
   "id": "4fe406c6-bb68-4f5a-a4b0-94c1b3b53270",
   "metadata": {},
   "outputs": [],
   "source": []
  },
  {
   "cell_type": "code",
   "execution_count": null,
   "id": "945a42e2-fe1a-4fa2-b3b3-fd2df67c498f",
   "metadata": {},
   "outputs": [],
   "source": []
  }
 ],
 "metadata": {
  "kernelspec": {
   "display_name": "Python 3 (ipykernel)",
   "language": "python",
   "name": "python3"
  },
  "language_info": {
   "codemirror_mode": {
    "name": "ipython",
    "version": 3
   },
   "file_extension": ".py",
   "mimetype": "text/x-python",
   "name": "python",
   "nbconvert_exporter": "python",
   "pygments_lexer": "ipython3",
   "version": "3.12.7"
  }
 },
 "nbformat": 4,
 "nbformat_minor": 5
}
