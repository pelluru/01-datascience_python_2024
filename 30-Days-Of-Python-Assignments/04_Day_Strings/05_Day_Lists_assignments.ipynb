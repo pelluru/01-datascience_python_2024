{
 "cells": [
  {
   "cell_type": "code",
   "execution_count": null,
   "id": "c49b84ae-68e8-4010-8442-b2ec034607eb",
   "metadata": {},
   "outputs": [],
   "source": [
    "Exercises - Day 5\n",
    "# https://github.com/Asabeneh/30-Days-Of-Python"
   ]
  },
  {
   "cell_type": "code",
   "execution_count": 1,
   "id": "65d907b4-2aa6-4cc1-ba85-d085eced69ea",
   "metadata": {},
   "outputs": [
    {
     "name": "stdout",
     "output_type": "stream",
     "text": [
      "[]\n"
     ]
    }
   ],
   "source": [
    "# Declare an empty list\n",
    "names = []\n",
    "print(names)"
   ]
  },
  {
   "cell_type": "code",
   "execution_count": 5,
   "id": "3092df3b-f868-4323-b92e-bc999bb75b50",
   "metadata": {},
   "outputs": [
    {
     "name": "stdout",
     "output_type": "stream",
     "text": [
      "['rao', 'prabha', 'siva', 'faraz', 'shankar', 'faraz']\n",
      "6\n"
     ]
    }
   ],
   "source": [
    "# Declare a list with more than 5 items\n",
    "names = ['rao','prabha','siva','faraz','shankar','faraz']\n",
    "print(names)\n",
    "print(len(names))\n"
   ]
  },
  {
   "cell_type": "code",
   "execution_count": 11,
   "id": "ddf0a8c1-a4af-42f8-910c-522d5bb17724",
   "metadata": {},
   "outputs": [
    {
     "name": "stdout",
     "output_type": "stream",
     "text": [
      "rao , faraz , faraz\n",
      "['rao', 'prabha', 'siva', 'faraz', 'shankar', 'faraz']\n"
     ]
    }
   ],
   "source": [
    "# Get the first item, the middle item and the last item of the list\n",
    "first_name = names[0]\n",
    "last_name = names[-1]\n",
    "middle_name = names[round(len(names)/2)]\n",
    "\n",
    "print(f'{first_name} , {middle_name} , {last_name}')\n",
    "print(names)"
   ]
  },
  {
   "cell_type": "code",
   "execution_count": 13,
   "id": "e1442452-cfc4-4129-9db8-6e99be576dcc",
   "metadata": {},
   "outputs": [
    {
     "name": "stdout",
     "output_type": "stream",
     "text": [
      " found cnn\n"
     ]
    }
   ],
   "source": [
    "# Check if a certain company exists in the companies list.\n",
    "companies = ['apple','amazon','cnn','capitalone']\n",
    "\n",
    "company_to_be_found = 'cnn'\n",
    "for company in companies:\n",
    "    if company_to_be_found == company:\n",
    "        print(f' found {company_to_be_found}')\n",
    "    \n"
   ]
  },
  {
   "cell_type": "code",
   "execution_count": 23,
   "id": "381e3d99-66da-4060-8fe9-3c0af50b37e6",
   "metadata": {},
   "outputs": [
    {
     "name": "stdout",
     "output_type": "stream",
     "text": [
      "min_age 19 26\n",
      "[19, 19, 20, 22, 24, 24, 24, 25, 25, 26, 19, 26]\n"
     ]
    }
   ],
   "source": [
    "# The following is a list of 10 students ages:\n",
    "ages = [19, 22, 19, 24, 20, 25, 26, 24, 25, 24]\n",
    "\n",
    "# Sort the list and find the min and max age\n",
    "ages.sort()\n",
    "\n",
    "min_age =  ages[0]\n",
    "max_age = ages[-1]\n",
    "\n",
    "print(f'min_age {min_age} {max_age}')\n",
    "\n",
    "# Add the min age and the max age again to the list\n",
    "\n",
    "ages.append(min_age)\n",
    "ages.append(max_age)\n",
    "\n",
    "print(ages)\n",
    "\n",
    "# Find the median age (one middle item or two middle items divided by two)\n",
    "\n",
    "list_length = len(ages)\n",
    "\n",
    "# even \n",
    "if list_length % 2 == 0 :\n",
    "    \n",
    "    else:\n",
    "    \n",
    "\n",
    "#odd\n",
    "\n",
    "# Find the average age (sum of all items divided by their number )\n",
    "# Find the range of the ages (max minus min)\n",
    "# Compare the value of (min - average) and (max - average), use abs() method\n",
    "\n"
   ]
  },
  {
   "cell_type": "code",
   "execution_count": null,
   "id": "49ddbea2-c03d-4900-945f-0bfc6484e06f",
   "metadata": {},
   "outputs": [],
   "source": []
  }
 ],
 "metadata": {
  "kernelspec": {
   "display_name": "Python 3 (ipykernel)",
   "language": "python",
   "name": "python3"
  },
  "language_info": {
   "codemirror_mode": {
    "name": "ipython",
    "version": 3
   },
   "file_extension": ".py",
   "mimetype": "text/x-python",
   "name": "python",
   "nbconvert_exporter": "python",
   "pygments_lexer": "ipython3",
   "version": "3.12.7"
  }
 },
 "nbformat": 4,
 "nbformat_minor": 5
}
